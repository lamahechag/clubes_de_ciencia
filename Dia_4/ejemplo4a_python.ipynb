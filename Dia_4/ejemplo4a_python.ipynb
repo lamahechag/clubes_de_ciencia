{
 "cells": [
  {
   "cell_type": "code",
   "execution_count": 3,
   "metadata": {},
   "outputs": [
    {
     "name": "stdout",
     "output_type": "stream",
     "text": [
      "\n",
      " ** Ejemplo 1 **\n",
      "Hola\n"
     ]
    }
   ],
   "source": [
    "# EJEMPLO 1: Imprimir algo\n",
    "print ('\\n ** Ejemplo 1 **')\n",
    "print ('Hola')"
   ]
  },
  {
   "cell_type": "code",
   "execution_count": 7,
   "metadata": {},
   "outputs": [
    {
     "name": "stdout",
     "output_type": "stream",
     "text": [
      "\n",
      " ** Ejemplo 2 **\n",
      "iteración 0\n",
      "iteración 1\n",
      "iteración 2\n",
      "iteración 3\n",
      "iteración 4\n",
      "iteración 5\n",
      "iteración 6\n",
      "iteración 7\n",
      "iteración 8\n",
      "iteración 9\n",
      "iteración 10\n",
      "iteración 11\n"
     ]
    }
   ],
   "source": [
    "# EJEMPLO 2: Usar un for-loop para iterar\n",
    "print ('\\n ** Ejemplo 2 **')\n",
    "\n",
    "for i in range(12):\n",
    "    print ('iteración ' + str(i))"
   ]
  },
  {
   "cell_type": "code",
   "execution_count": 9,
   "metadata": {},
   "outputs": [
    {
     "name": "stdout",
     "output_type": "stream",
     "text": [
      "\n",
      " ** Ejemplo 3 **\n",
      "0\n",
      "2\n",
      "4\n",
      "6\n",
      "8\n",
      "10\n"
     ]
    }
   ],
   "source": [
    "# EJEMPLO 3: Usar lógico para escribir números pares\n",
    "print ('\\n ** Ejemplo 3 **')\n",
    "\n",
    "for i in range(12):\n",
    "    if i % 2 == 0:\n",
    "        print (str(i))"
   ]
  },
  {
   "cell_type": "code",
   "execution_count": 10,
   "metadata": {},
   "outputs": [
    {
     "name": "stdout",
     "output_type": "stream",
     "text": [
      "\n",
      " ** Ejemplo 4 **\n",
      "\n",
      "N\n",
      "No\n",
      "Nos\n",
      "Nos \n",
      "Nos e\n",
      "Nos es\n",
      "Nos est\n",
      "Nos esta\n",
      "Nos estam\n",
      "Nos estamo\n",
      "Nos estamos\n",
      "Nos estamos \n",
      "Nos estamos d\n",
      "Nos estamos di\n",
      "Nos estamos div\n",
      "Nos estamos divi\n",
      "Nos estamos divir\n",
      "Nos estamos divirt\n",
      "Nos estamos divirti\n",
      "Nos estamos divirtie\n",
      "Nos estamos divirtien\n",
      "Nos estamos divirtiend\n",
      "Nos estamos divirtiendo\n"
     ]
    }
   ],
   "source": [
    "# EJEMPLO 4: Escribir subcadenas de texto\n",
    "print ('\\n ** Ejemplo 4 **')\n",
    "\n",
    "frase = 'Nos estamos divirtiendo!'\n",
    "for i in range(len(frase)):\n",
    "    print (frase[:i])"
   ]
  },
  {
   "cell_type": "code",
   "execution_count": 11,
   "metadata": {},
   "outputs": [
    {
     "name": "stdout",
     "output_type": "stream",
     "text": [
      "\n",
      " ** Ejemplo 5 **\n",
      "2000\n"
     ]
    }
   ],
   "source": [
    "# EJEMPLO 5: Multiplicar los elementos de una lista\n",
    "print ('\\n ** Ejemplo 5 **')\n",
    "\n",
    "numeros = [2, 2, 5, 100]\n",
    "multiplicacion = 1\n",
    "for i in range(len(numeros)):\n",
    "    multiplicacion *= numeros[i]\n",
    "print (str(multiplicacion))"
   ]
  },
  {
   "cell_type": "code",
   "execution_count": null,
   "metadata": {
    "collapsed": true
   },
   "outputs": [],
   "source": []
  }
 ],
 "metadata": {
  "kernelspec": {
   "display_name": "Python 3",
   "language": "python",
   "name": "python3"
  },
  "language_info": {
   "codemirror_mode": {
    "name": "ipython",
    "version": 3
   },
   "file_extension": ".py",
   "mimetype": "text/x-python",
   "name": "python",
   "nbconvert_exporter": "python",
   "pygments_lexer": "ipython3",
   "version": "3.6.1"
  }
 },
 "nbformat": 4,
 "nbformat_minor": 2
}
